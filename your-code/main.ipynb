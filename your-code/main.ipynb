{
 "cells": [
  {
   "cell_type": "markdown",
   "metadata": {},
   "source": [
    "# Introduction To Probability\n",
    "## Challenge 1\n",
    "\n",
    "A and B are events of a probability space with $(\\omega, \\sigma, P)$ such that $P(A) = 0.3$, $P(B) = 0.6$ and $P(A \\cap B) = 0.1$\n",
    "\n",
    "Which of the following statements are false?\n",
    "* $P(A \\cup B) = 0.6$\n",
    "* $P(A \\cap B^{C}) = 0.2$\n",
    "* $P(A \\cap (B \\cup B^{C})) = 0.4$\n",
    "* $P(A^{C} \\cap B^{C}) = 0.3$\n",
    "* $P((A \\cap B)^{C}) = 0.9$"
   ]
  },
  {
   "cell_type": "code",
   "execution_count": 9,
   "metadata": {},
   "outputs": [
    {
     "name": "stdout",
     "output_type": "stream",
     "text": [
      "P(A ∪ B) = 0.7999999999999999\n",
      "P(A ∩ B') = 0.19999999999999998\n",
      "P(A ∩ (B ∪ B')) = 0.3\n",
      "P(A' ∩ B') = 0.28\n",
      "P((A ∩ B)') = 0.9\n"
     ]
    }
   ],
   "source": [
    "from sympy import *\n",
    "\n",
    "# Definir los símbolos y eventos\n",
    "A, B = symbols('A B')\n",
    "PA = 0.3\n",
    "PB = 0.6\n",
    "P_interseccion = 0.1\n",
    "\n",
    "# Definir las probabilidades de los eventos\n",
    "P_A = Rational(PA)\n",
    "P_B = Rational(PB)\n",
    "P_A_interseccion_B = Rational(P_interseccion)\n",
    "\n",
    "# Calcular la probabilidad de la unión de A y B\n",
    "P_union = P_A + P_B - P_A_interseccion_B\n",
    "print(\"P(A ∪ B) =\", float(P_union))\n",
    "\n",
    "# Calcular la probabilidad de la intersección de A y no B\n",
    "P_A_interseccion_noB = P_A - P_A_interseccion_B\n",
    "print(\"P(A ∩ B') =\", float(P_A_interseccion_noB))\n",
    "\n",
    "# Calcular la probabilidad de A intersección (B unión B')\n",
    "P_B_union_noB = P_B + (1 - P_B)\n",
    "P_A_interseccion_B_union_noB = P_A * P_B_union_noB\n",
    "print(\"P(A ∩ (B ∪ B')) =\", float(P_A_interseccion_B_union_noB))\n",
    "\n",
    "# Calcular la probabilidad de la no A intersección no B\n",
    "P_noA = 1 - P_A\n",
    "P_noB = 1 - P_B\n",
    "P_noA_interseccion_noB = P_noA * P_noB\n",
    "print(\"P(A' ∩ B') =\", float(P_noA_interseccion_noB))\n",
    "\n",
    "# Calcular la probabilidad de la intersección de no (A y B)\n",
    "P_noA_interseccion_noB = 1 - P_A_interseccion_B\n",
    "print(\"P((A ∩ B)') =\", float(P_noA_interseccion_noB))\n"
   ]
  },
  {
   "cell_type": "code",
   "execution_count": null,
   "metadata": {},
   "outputs": [],
   "source": [
    "𝑃(𝐴∪𝐵)=0.6        ### que ocurra A o B\n",
    " \n",
    "𝑃(𝐴∩𝐵𝐶)=0.2       ### \n",
    " \n",
    "𝑃(𝐴∩(𝐵∪𝐵𝐶))=0.4   ###   falso\n",
    " \n",
    "𝑃(𝐴𝐶∩𝐵𝐶)=0.3       ###   falso\n",
    " \n",
    "𝑃((𝐴∩𝐵)𝐶)=0.9      ### verdadero (𝑃(𝐴∩𝐵)=0.1) + (𝑃((𝐴∩𝐵)𝐶)=0.9 ) = 1"
   ]
  },
  {
   "cell_type": "markdown",
   "metadata": {},
   "source": [
    "## Challenge 2\n",
    "There is a box with 10 white balls, 12 red balls and 8 black balls. Calculate the probability of:\n",
    "* Taking a white ball out.\n",
    "* Taking a white ball out after taking a black ball out.\n",
    "* Taking a red ball out after taking a black and a red ball out.\n",
    "* Taking a red ball out after taking a black and a red ball out with reposition.\n",
    "\n",
    "**Hint**: Reposition means putting back the ball into the box after taking it out."
   ]
  },
  {
   "cell_type": "code",
   "execution_count": 1,
   "metadata": {},
   "outputs": [
    {
     "name": "stdout",
     "output_type": "stream",
     "text": [
      "33.33333333333333\n",
      "0.08888888888888888\n",
      "0.18719211822660095\n",
      "0.17777777777777778\n"
     ]
    }
   ],
   "source": [
    "\n",
    "blancas = 10/30 *100\n",
    "print(blancas)\n",
    "blancas_negra = (8/30)* (1/3)\n",
    "print(blancas_negra)\n",
    "red_blackred = (20/30 * 19/29) * (12/28)\n",
    "print(red_blackred)\n",
    "red_blackred2 = (20/30 * 20/30) * (12/30)\n",
    "print(red_blackred2)"
   ]
  },
  {
   "cell_type": "markdown",
   "metadata": {},
   "source": [
    "33%,\n",
    "8%,\n",
    "18%,\n",
    "17%"
   ]
  },
  {
   "cell_type": "markdown",
   "metadata": {},
   "source": [
    "## Challenge 3\n",
    "\n",
    "You are planning to go on a picnic today but the morning is cloudy. You hate rain so you don't know whether to go out or stay home! To help you make a decision, you gather the following data about rainy days:\n",
    "\n",
    "* Knowing that it is a rainy day, the probability of cloudy is 50%!\n",
    "* The probability of any day (rainy or not) starting off cloudy is 40%. \n",
    "* This month is usually dry so only 3 of 30 days (10%) tend to be rainy. \n",
    "\n",
    "What is the probability of rain, given the day started cloudy?"
   ]
  },
  {
   "cell_type": "code",
   "execution_count": 2,
   "metadata": {},
   "outputs": [
    {
     "data": {
      "text/plain": [
       "0.125"
      ]
     },
     "execution_count": 2,
     "metadata": {},
     "output_type": "execute_result"
    }
   ],
   "source": [
    "0.5 * 0.1 / 0.4"
   ]
  },
  {
   "cell_type": "markdown",
   "metadata": {},
   "source": [
    "12.5%"
   ]
  },
  {
   "cell_type": "markdown",
   "metadata": {},
   "source": [
    "## Challenge 4\n",
    "\n",
    "One thousand people were asked through a telephone survey whether they thought more street lighting is needed at night or not.\n",
    "\n",
    "Out of the 480 men that answered the survey, 324 said yes and 156 said no. On the other hand, out of the 520 women that answered, 351 said yes and 169 said no. \n",
    "\n",
    "We wonder if men and women have a different opinions about the street lighting matter. Is gender relevant or irrelevant to the question?\n",
    "\n",
    "Consider the following events:\n",
    "- The answer is yes, so the person that answered thinks that more street lighting is needed.\n",
    "- The person who answered is a man.\n",
    "\n",
    "We want to know if these events are independent, that is, if the fact of wanting more light depends on whether one is male or female. Are these events independent or not?\n",
    "\n",
    "**Hint**: To clearly compare the answers by gender, it is best to place the data in a table."
   ]
  },
  {
   "cell_type": "code",
   "execution_count": 5,
   "metadata": {},
   "outputs": [],
   "source": [
    "import pandas as pd"
   ]
  },
  {
   "cell_type": "code",
   "execution_count": 7,
   "metadata": {},
   "outputs": [],
   "source": [
    "dicc = {\"men\": [324, 156],\n",
    "       \"women\": [351, 169],\n",
    "       \"total\": [675, 325]}"
   ]
  },
  {
   "cell_type": "code",
   "execution_count": 8,
   "metadata": {},
   "outputs": [],
   "source": [
    "dicc = pd.DataFrame(dicc)"
   ]
  },
  {
   "cell_type": "code",
   "execution_count": 9,
   "metadata": {},
   "outputs": [
    {
     "data": {
      "text/html": [
       "<div>\n",
       "<style scoped>\n",
       "    .dataframe tbody tr th:only-of-type {\n",
       "        vertical-align: middle;\n",
       "    }\n",
       "\n",
       "    .dataframe tbody tr th {\n",
       "        vertical-align: top;\n",
       "    }\n",
       "\n",
       "    .dataframe thead th {\n",
       "        text-align: right;\n",
       "    }\n",
       "</style>\n",
       "<table border=\"1\" class=\"dataframe\">\n",
       "  <thead>\n",
       "    <tr style=\"text-align: right;\">\n",
       "      <th></th>\n",
       "      <th>men</th>\n",
       "      <th>women</th>\n",
       "      <th>total</th>\n",
       "    </tr>\n",
       "  </thead>\n",
       "  <tbody>\n",
       "    <tr>\n",
       "      <th>0</th>\n",
       "      <td>324</td>\n",
       "      <td>351</td>\n",
       "      <td>675</td>\n",
       "    </tr>\n",
       "    <tr>\n",
       "      <th>1</th>\n",
       "      <td>156</td>\n",
       "      <td>169</td>\n",
       "      <td>325</td>\n",
       "    </tr>\n",
       "  </tbody>\n",
       "</table>\n",
       "</div>"
      ],
      "text/plain": [
       "   men  women  total\n",
       "0  324    351    675\n",
       "1  156    169    325"
      ]
     },
     "execution_count": 9,
     "metadata": {},
     "output_type": "execute_result"
    }
   ],
   "source": [
    "dicc"
   ]
  },
  {
   "cell_type": "code",
   "execution_count": 10,
   "metadata": {},
   "outputs": [],
   "source": [
    "P_man_yes = 324/480"
   ]
  },
  {
   "cell_type": "code",
   "execution_count": 11,
   "metadata": {},
   "outputs": [
    {
     "data": {
      "text/plain": [
       "0.675"
      ]
     },
     "execution_count": 11,
     "metadata": {},
     "output_type": "execute_result"
    }
   ],
   "source": [
    "P_man_yes"
   ]
  },
  {
   "cell_type": "code",
   "execution_count": 14,
   "metadata": {},
   "outputs": [],
   "source": [
    "P_women_yes = 351/520"
   ]
  },
  {
   "cell_type": "code",
   "execution_count": 15,
   "metadata": {},
   "outputs": [
    {
     "data": {
      "text/plain": [
       "0.675"
      ]
     },
     "execution_count": 15,
     "metadata": {},
     "output_type": "execute_result"
    }
   ],
   "source": [
    "P_women_yes"
   ]
  },
  {
   "cell_type": "markdown",
   "metadata": {},
   "source": [
    "eventos son independientes."
   ]
  },
  {
   "cell_type": "code",
   "execution_count": null,
   "metadata": {},
   "outputs": [],
   "source": []
  }
 ],
 "metadata": {
  "kernelspec": {
   "display_name": "Python 3 (ipykernel)",
   "language": "python",
   "name": "python3"
  },
  "language_info": {
   "codemirror_mode": {
    "name": "ipython",
    "version": 3
   },
   "file_extension": ".py",
   "mimetype": "text/x-python",
   "name": "python",
   "nbconvert_exporter": "python",
   "pygments_lexer": "ipython3",
   "version": "3.11.5"
  }
 },
 "nbformat": 4,
 "nbformat_minor": 2
}
